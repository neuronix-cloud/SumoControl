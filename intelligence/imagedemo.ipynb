{
 "cells": [
  {
   "cell_type": "code",
   "execution_count": 40,
   "metadata": {},
   "outputs": [],
   "source": [
    "import cv2\n",
    "import numpy as np\n",
    "import core.utils as utils\n",
    "import tensorflow as tf\n",
    "from PIL import Image\n",
    "import matplotlib.pyplot as plt\n",
    "import matplotlib.patches as patches\n",
    "import os"
   ]
  },
  {
   "cell_type": "code",
   "execution_count": 43,
   "metadata": {},
   "outputs": [],
   "source": [
    "return_elements = [\"input/input_data:0\", \"pred_sbbox/concat_2:0\", \"pred_mbbox/concat_2:0\", \"pred_lbbox/concat_2:0\"]\n",
    "pb_file         = \"./yolov3_coco.pb\"\n",
    "num_classes     = 80\n",
    "input_size      = 416\n",
    "graph           = tf.Graph()"
   ]
  },
  {
   "cell_type": "code",
   "execution_count": 44,
   "metadata": {},
   "outputs": [],
   "source": [
    "dir = \"../DroneTrainerNotebooks/data/ok\"\n",
    "files = [ f\"{dir}/{file}\" for file in os.listdir(dir) ]"
   ]
  },
  {
   "cell_type": "code",
   "execution_count": null,
   "metadata": {},
   "outputs": [],
   "source": [
    "n = 1\n",
    "original_image = cv2.imread(files[n])\n",
    "original_image = cv2.cvtColor(original_image, cv2.COLOR_BGR2RGB)\n",
    "original_image_size = original_image.shape[:2]\n",
    "image_data = utils.image_preporcess(np.copy(original_image), [input_size, input_size])\n",
    "image_data = image_data[np.newaxis, ...]\n",
    "return_tensors = utils.read_pb_return_tensors(graph, pb_file, return_elements)\n",
    "\n",
    "with tf.Session(graph=graph) as sess:\n",
    "    pred_sbbox, pred_mbbox, pred_lbbox = sess.run(\n",
    "        [return_tensors[1], return_tensors[2], return_tensors[3]],\n",
    "                feed_dict={ return_tensors[0]: image_data})\n",
    "\n",
    "pred_bbox = np.concatenate([np.reshape(pred_sbbox, (-1, 5 + num_classes)),\n",
    "                            np.reshape(pred_mbbox, (-1, 5 + num_classes)),\n",
    "                            np.reshape(pred_lbbox, (-1, 5 + num_classes))], axis=0)\n",
    "bboxes = utils.postprocess_boxes(pred_bbox, original_image_size, input_size, 0.3)\n",
    "bboxes = utils.nms(bboxes, 0.45, method='nms')\n",
    "\n",
    "found = False\n",
    "for i in range(len(bboxes)):\n",
    "    if int(bboxes[i][5]) == 32:\n",
    "        #print(bboxes[i][0], bboxes[i][1], bboxes[i][2], bboxes[i][3])\n",
    "        found = True\n",
    "        x = int(bboxes[i][0])\n",
    "        y = int(bboxes[i][1])\n",
    "        w = int(bboxes[i][2]) - x\n",
    "        h = int(bboxes[i][3]) - y\n",
    "        print(x,y,w,h)\n",
    "\n",
    "if found:\n",
    "    fig, ax = plt.subplots(1)\n",
    "    rect = patches.Rectangle((x,y),w,h,linewidth=1,edgecolor='r',facecolor='none')\n",
    "    ax.imshow(original_image)\n",
    "    ax.add_patch(rect)\n",
    "    plt.show()\n",
    "else:\n",
    "    print(\"not found\")\n",
    "    plt.imshow(original_image)"
   ]
  },
  {
   "cell_type": "code",
   "execution_count": null,
   "metadata": {},
   "outputs": [],
   "source": []
  }
 ],
 "metadata": {
  "kernelspec": {
   "display_name": "Python 3",
   "language": "python",
   "name": "python3"
  },
  "language_info": {
   "codemirror_mode": {
    "name": "ipython",
    "version": 3
   },
   "file_extension": ".py",
   "mimetype": "text/x-python",
   "name": "python",
   "nbconvert_exporter": "python",
   "pygments_lexer": "ipython3",
   "version": "3.7.4"
  }
 },
 "nbformat": 4,
 "nbformat_minor": 2
}
